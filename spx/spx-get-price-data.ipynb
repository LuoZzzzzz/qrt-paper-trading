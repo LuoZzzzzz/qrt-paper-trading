{
 "cells": [
  {
   "cell_type": "code",
   "execution_count": 2,
   "metadata": {},
   "outputs": [
    {
     "data": {
      "text/plain": [
       "<refinitiv.data.session.Definition object at 0x162b728e510 {name='workspace'}>"
      ]
     },
     "execution_count": 2,
     "metadata": {},
     "output_type": "execute_result"
    }
   ],
   "source": [
    "import refinitiv.data as rd\n",
    "rd.open_session()"
   ]
  },
  {
   "cell_type": "markdown",
   "metadata": {},
   "source": [
    "### Pull many years of data"
   ]
  },
  {
   "cell_type": "code",
   "execution_count": 3,
   "metadata": {},
   "outputs": [
    {
     "name": "stderr",
     "output_type": "stream",
     "text": [
      "c:\\Users\\zeyuan\\anaconda3\\envs\\quant\\Lib\\site-packages\\refinitiv\\data\\_tools\\_dataframe.py:177:FutureWarning: Downcasting object dtype arrays on .fillna, .ffill, .bfill is deprecated and will change in a future version. Call result.infer_objects(copy=False) instead. To opt-in to the future behavior, set `pd.set_option('future.no_silent_downcasting', True)`\n"
     ]
    }
   ],
   "source": [
    "### Pull 5 years of data\n",
    "\n",
    "past_price_df = rd.get_history(\n",
    "    universe=[\"0#.SPX\"],\n",
    "    fields=[\"TR.PriceClose\"],\n",
    "    interval=\"1D\",\n",
    "    start=\"2024-02-12\",\n",
    "    end=\"2025-02-11\",\n",
    ")\n",
    "\n",
    "past_spx_df = rd.get_history(\n",
    "    universe=[\".SPX\"],\n",
    "    fields=[\"TR.PriceClose\"],\n",
    "    interval=\"1D\",\n",
    "    start=\"2024-02-12\",\n",
    "    end=\"2025-02-11\",\n",
    ")\n",
    "\n",
    "column_names = list(past_spx_df.columns)\n",
    "past_spx_df = past_spx_df.rename(columns={column_names[0]: \"SPX\"})\n",
    "past_spx_df.columns.name = \"Price Close\"\n",
    "\n",
    "past_price_df.to_pickle(\"spx_2025.02.12\")\n",
    "past_spx_df.to_pickle(\"spx_index_2025.02.12\")"
   ]
  },
  {
   "cell_type": "markdown",
   "metadata": {},
   "source": [
    "### Create directory and save dataframes"
   ]
  },
  {
   "cell_type": "raw",
   "metadata": {
    "vscode": {
     "languageId": "raw"
    }
   },
   "source": [
    "import os"
   ]
  },
  {
   "cell_type": "raw",
   "metadata": {
    "vscode": {
     "languageId": "raw"
    }
   },
   "source": [
    "date = \"18.12.24\"\n",
    "pathname = \"spx-\" + date\n",
    "\n",
    "os.mkdir(pathname)\n",
    "\n",
    "past_price_df.to_pickle(\"./\" + pathname + \"/\" + \"past_spx_close_price_\" + date)\n",
    "future_price_df.to_pickle(\"./\" + pathname + \"/\" + \"future_spx_close_price_\" + date)\n",
    "\n",
    "past_spx_df.to_pickle(\"./\" + pathname + \"/\" + \"past_spx_index_close_price_\" + date)\n",
    "future_spx_df.to_pickle(\"./\" + pathname + \"/\" + \"future_spx_index_close_price_\" + date)  "
   ]
  },
  {
   "cell_type": "markdown",
   "metadata": {},
   "source": [
    "### Close session"
   ]
  },
  {
   "cell_type": "code",
   "execution_count": 7,
   "metadata": {},
   "outputs": [],
   "source": [
    "rd.close_session()"
   ]
  }
 ],
 "metadata": {
  "kernelspec": {
   "display_name": "quant",
   "language": "python",
   "name": "python3"
  },
  "language_info": {
   "codemirror_mode": {
    "name": "ipython",
    "version": 3
   },
   "file_extension": ".py",
   "mimetype": "text/x-python",
   "name": "python",
   "nbconvert_exporter": "python",
   "pygments_lexer": "ipython3",
   "version": "3.12.8"
  }
 },
 "nbformat": 4,
 "nbformat_minor": 2
}
